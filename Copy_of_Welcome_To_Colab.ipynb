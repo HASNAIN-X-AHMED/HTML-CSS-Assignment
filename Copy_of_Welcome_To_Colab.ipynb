{
  "cells": [
    {
      "cell_type": "markdown",
      "metadata": {
        "id": "view-in-github",
        "colab_type": "text"
      },
      "source": [
        "<a href=\"https://colab.research.google.com/github/HASNAIN-X-AHMED/HTML-CSS-Assignment/blob/main/Copy_of_Welcome_To_Colab.ipynb\" target=\"_parent\"><img src=\"https://colab.research.google.com/assets/colab-badge.svg\" alt=\"Open In Colab\"/></a>"
      ]
    },
    {
      "cell_type": "markdown",
      "source": [
        "**Part 1: Understanding String Literals**\n",
        "\n",
        "1.Create three different strings using each type of quotation:"
      ],
      "metadata": {
        "id": "_GHv5-KPKAVT"
      }
    },
    {
      "cell_type": "code",
      "source": [
        "# Single quotes\n",
        "string1 = 'This is a string using single quotes.'\n",
        "print(string1)\n",
        "\n",
        "# Double quotes\n",
        "string2 = \"This is a string using double quotes.\"\n",
        "print(string2)\n",
        "\n",
        "# Triple quotes\n",
        "string3 = \"\"\"This is a string using triple quotes.\"\"\"\n",
        "print(string3)"
      ],
      "metadata": {
        "id": "dNDUEj8lKH3c",
        "outputId": "9212cc0a-81b2-4850-b1be-870866bfb94d",
        "colab": {
          "base_uri": "https://localhost:8080/"
        }
      },
      "execution_count": null,
      "outputs": [
        {
          "output_type": "stream",
          "name": "stdout",
          "text": [
            "This is a string using single quotes.\n",
            "This is a string using double quotes.\n",
            "This is a string using triple quotes.\n"
          ]
        }
      ]
    },
    {
      "cell_type": "markdown",
      "source": [
        "2.Explain in your own words: What is the advantage of each type of quotation?\n",
        "Single Quotes ('):\n",
        "\n",
        "Useful when your string contains double quotes. For example: 'She said, \"Hello!\"'.\n",
        "\n",
        "Double Quotes (\"):\n",
        "\n",
        "Useful when your string contains single quotes. For example: \"I'm learning Python.\"\n",
        "\n",
        "Commonly used in many programming languages, making it a familiar choice.\n",
        "\n",
        "Triple Quotes (''' or \"\"\"):\n",
        "\n",
        "Allows you to create multi-line strings without using escape characters like \\n."
      ],
      "metadata": {
        "id": "wnVuaouEKj7W"
      }
    },
    {
      "cell_type": "markdown",
      "source": [
        "3.Write a string that contains both single and double quotes inside it. Example: She said, \"I'm going to the store.\""
      ],
      "metadata": {
        "id": "FSk9F6pUKtbz"
      }
    },
    {
      "cell_type": "code",
      "source": [
        "mixed_quotes =  'She said, \"I\\'m going to the store.\"'\n",
        "print(mixed_quotes)"
      ],
      "metadata": {
        "id": "DOxHwpq7Kxvf",
        "outputId": "a298bae2-c8b3-494c-b77b-4d0cb064fd88",
        "colab": {
          "base_uri": "https://localhost:8080/"
        }
      },
      "execution_count": null,
      "outputs": [
        {
          "output_type": "stream",
          "name": "stdout",
          "text": [
            "She said, \"I'm going to the store.\"\n"
          ]
        }
      ]
    },
    {
      "cell_type": "markdown",
      "source": [
        "4.Create a multi-line string using triple quotes that describes your favorite hobby."
      ],
      "metadata": {
        "id": "MeniDq3UK9Je"
      }
    },
    {
      "cell_type": "code",
      "source": [
        "hobby = \"\"\"\n",
        "My favorite hobby is playing football and learning new technologies. Python is\n",
        "one of my favorite languages because of its simplicity and\n",
        "versatility.\n",
        "\n",
        "\"\"\"\n",
        "print(hobby)"
      ],
      "metadata": {
        "id": "HflEOjpiLBCy",
        "outputId": "1e708f6f-7238-495a-a53f-8ceb6bc28c49",
        "colab": {
          "base_uri": "https://localhost:8080/"
        }
      },
      "execution_count": null,
      "outputs": [
        {
          "output_type": "stream",
          "name": "stdout",
          "text": [
            "\n",
            "My favorite hobby is playing football and learning new technologies. Python is\n",
            "one of my favorite languages because of its simplicity and\n",
            "versatility.\n",
            "\n",
            "\n"
          ]
        }
      ]
    },
    {
      "cell_type": "markdown",
      "source": [
        "\n",
        "**Part 2: String Methods Practice**\n",
        "\n",
        "1.Create a variable full_name with your full name (first and last name). Then write code to:\n",
        "o Print your name in all uppercase letters\n",
        "\n",
        "o Print your name in all lowercase letters\n",
        "\n",
        "o Print your name with the first letter of each name capitalized"
      ],
      "metadata": {
        "id": "eTgOwRAiMCS1"
      }
    },
    {
      "cell_type": "code",
      "source": [
        "full_name = \"Hasnain Ahmed\"\n",
        "print(full_name.lower())\n",
        "print(full_name.upper())\n",
        "print(full_name.capitalize())"
      ],
      "metadata": {
        "id": "VFoy7MFIMLxk",
        "outputId": "4fd3afc8-64ec-4715-c404-67ee9bcd8905",
        "colab": {
          "base_uri": "https://localhost:8080/"
        }
      },
      "execution_count": null,
      "outputs": [
        {
          "output_type": "stream",
          "name": "stdout",
          "text": [
            "hasnain ahmed\n",
            "HASNAIN AHMED\n",
            "Hasnain ahmed\n"
          ]
        }
      ]
    },
    {
      "cell_type": "markdown",
      "source": [
        "2.Create a variable messy_text = \" Python programming is fun! \" Then write code to:\n",
        "o Remove all the extra spaces at the beginning and end\n",
        "\n",
        "o Replace \"fun\" with \"amazing\"\n",
        "\n",
        "o Count how many times the letter 'i' appears"
      ],
      "metadata": {
        "id": "5CBCMPr7McDe"
      }
    },
    {
      "cell_type": "code",
      "source": [
        "messy_text = \" cricket is most fun game in the world! \"\n",
        "\n",
        "print(messy_text.strip())\n",
        "print(messy_text.replace(\"fun\",\"amazing\"))\n",
        "print(messy_text.count(\"i\"))"
      ],
      "metadata": {
        "id": "4ZOMjFDVMkFq",
        "outputId": "86e71c28-ba5f-4191-f2d9-e3664d6ba446",
        "colab": {
          "base_uri": "https://localhost:8080/"
        }
      },
      "execution_count": null,
      "outputs": [
        {
          "output_type": "stream",
          "name": "stdout",
          "text": [
            "cricket is most fun game in the world!\n",
            " cricket is most amazing game in the world! \n",
            "3\n"
          ]
        }
      ]
    },
    {
      "cell_type": "markdown",
      "source": [
        "\n",
        "1.Create a variable sentence = \"The quick brown fox jumps over the lazy dog\" Then write code to:\n",
        "o Split this sentence into a list of words\n",
        "\n",
        "o Join the words back together with dashes between them\n",
        "\n",
        "o Check if the sentence starts with \"The\"\n",
        "\n",
        "o Find the position of the word \"fox\""
      ],
      "metadata": {
        "id": "OsIxh4vpNEdD"
      }
    },
    {
      "cell_type": "code",
      "source": [
        "sentence = \"The quick brown fox jumps over the lazy dog\"\n",
        "print(sentence.split())\n",
        "print(\"-\".join(sentence))\n",
        "print(sentence.startswith(\"The\"))\n",
        "print(sentence.find(\"fox\"))"
      ],
      "metadata": {
        "id": "A1wr1TFjNOxa",
        "outputId": "c00e1112-d9d1-41f2-938a-d3e1121dd494",
        "colab": {
          "base_uri": "https://localhost:8080/"
        }
      },
      "execution_count": null,
      "outputs": [
        {
          "output_type": "stream",
          "name": "stdout",
          "text": [
            "['The', 'quick', 'brown', 'fox', 'jumps', 'over', 'the', 'lazy', 'dog']\n",
            "T-h-e- -q-u-i-c-k- -b-r-o-w-n- -f-o-x- -j-u-m-p-s- -o-v-e-r- -t-h-e- -l-a-z-y- -d-o-g\n",
            "True\n",
            "16\n"
          ]
        }
      ]
    },
    {
      "cell_type": "markdown",
      "source": [
        "**Part 3: F-Strings**\n",
        "\n",
        "1.Create variables for:\n",
        "o Your name\n",
        "\n",
        "o Your age\n",
        "\n",
        "o Your favorite programming language\n",
        "\n",
        "Then use f-strings to create these sentences:\n",
        "\n",
        "o \"My name is {your_name} and I am {your_age} years old.\"\n",
        "\n",
        "o \"I enjoy programming in {language}, it's my favorite!\"\n",
        "\n",
        "o Create a math expression inside an f-string: \"In 5 years, I will be {age + 5} years old.\""
      ],
      "metadata": {
        "id": "pZf3_Q9ZNXRX"
      }
    },
    {
      "cell_type": "code",
      "source": [
        "_name = \"Hasnain Ahmed\"\n",
        "_age = 18\n",
        "_lang = \"Python\"\n",
        "\n",
        "\n",
        "print(f\"My name is {_name} and I am {_age} years old.\")\n",
        "print(f\"I enjoy programming in {_lang}, it's my favorite!\")\n",
        "print(f\"In 5 years, I will be {_age + 5} years old.\")"
      ],
      "metadata": {
        "id": "n2GsYB-9Ne7w",
        "outputId": "ea1397d1-e818-43c7-daec-7c8c129e81a3",
        "colab": {
          "base_uri": "https://localhost:8080/"
        }
      },
      "execution_count": null,
      "outputs": [
        {
          "output_type": "stream",
          "name": "stdout",
          "text": [
            "My name is Hasnain Ahmed and I am 18 years old.\n",
            "I enjoy programming in Python, it's my favorite!\n",
            "In 5 years, I will be 23 years old.\n"
          ]
        }
      ]
    },
    {
      "cell_type": "markdown",
      "source": [
        "Part 4: Combining String Methods with F-Strings\n",
        "\n",
        "1.Create a program that:\n",
        "\n",
        "2.Asks for user input about their first name, last name, and birth year\n",
        "\n",
        "3.Uses string methods to properly capitalize their name\n",
        "\n",
        "Uses f-strings to create a profile message: \"Profile: {First Last}, Age: {calculated age}, Username: {first initial + last name + birth year}\""
      ],
      "metadata": {
        "id": "Ywy3uHSCOCzL"
      }
    },
    {
      "cell_type": "code",
      "source": [
        "first_name = input(\"Enter your first name : \")\n",
        "last_name = input(\"Enter your last name : \")\n",
        "birth_year = int(input(\"Enter you birth year : \"))\n",
        "\n",
        "print(first_name.capitalize(),last_name.capitalize())\n",
        "print(\"Profile Message:\",f\"{first_name} {last_name}, Age:{2025 - birth_year}\")"
      ],
      "metadata": {
        "id": "lUF7nwvaOINz",
        "outputId": "3f073536-a05a-4fb5-dcd1-355be94b6496",
        "colab": {
          "base_uri": "https://localhost:8080/"
        }
      },
      "execution_count": null,
      "outputs": [
        {
          "output_type": "stream",
          "name": "stdout",
          "text": [
            "Enter your first name : Hasnain \n",
            "Enter your last name : Ahmed\n",
            "Enter you birth year : 2006\n",
            "Hasnain  Ahmed\n",
            "Profile Message: Hasnain  Ahmed, Age:19\n"
          ]
        }
      ]
    }
  ],
  "metadata": {
    "colab": {
      "toc_visible": true,
      "provenance": [],
      "include_colab_link": true
    },
    "kernelspec": {
      "display_name": "Python 3",
      "name": "python3"
    }
  },
  "nbformat": 4,
  "nbformat_minor": 0
}